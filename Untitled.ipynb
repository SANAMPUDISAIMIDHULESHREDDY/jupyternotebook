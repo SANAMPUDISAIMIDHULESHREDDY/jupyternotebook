{
 "cells": [
  {
   "cell_type": "markdown",
   "id": "09da0932",
   "metadata": {},
   "source": [
    "# this is an course named tools for data science in coursera"
   ]
  },
  {
   "cell_type": "code",
   "execution_count": null,
   "id": "211c8f68",
   "metadata": {},
   "outputs": [],
   "source": [
    "author_name = \"sai_midhulesh_510\"\n",
    "college = 'JNTUA college of engineering'"
   ]
  },
  {
   "cell_type": "code",
   "execution_count": null,
   "id": "d65c3c70",
   "metadata": {},
   "outputs": [],
   "source": []
  },
  {
   "cell_type": "code",
   "execution_count": null,
   "id": "59455932",
   "metadata": {},
   "outputs": [],
   "source": []
  },
  {
   "cell_type": "code",
   "execution_count": null,
   "id": "6e7622b4",
   "metadata": {},
   "outputs": [],
   "source": []
  },
  {
   "cell_type": "code",
   "execution_count": null,
   "id": "aa682d98",
   "metadata": {},
   "outputs": [],
   "source": []
  }
 ],
 "metadata": {
  "kernelspec": {
   "display_name": "Python 3",
   "language": "python",
   "name": "python3"
  },
  "language_info": {
   "codemirror_mode": {
    "name": "ipython",
    "version": 3
   },
   "file_extension": ".py",
   "mimetype": "text/x-python",
   "name": "python",
   "nbconvert_exporter": "python",
   "pygments_lexer": "ipython3",
   "version": "3.8.8"
  }
 },
 "nbformat": 4,
 "nbformat_minor": 5
}
